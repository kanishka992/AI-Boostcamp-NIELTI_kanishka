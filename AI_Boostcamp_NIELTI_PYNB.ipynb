{
  "cells": [
    {
      "cell_type": "code",
      "source": [
        "print(\"Hello, World!\")\n"
      ],
      "metadata": {
        "id": "md7EFsYDQlVH",
        "outputId": "ee378664-87d1-406d-b76d-90437c8386f7",
        "colab": {
          "base_uri": "https://localhost:8080/"
        }
      },
      "execution_count": null,
      "outputs": [
        {
          "output_type": "stream",
          "name": "stdout",
          "text": [
            "Hello, World!\n"
          ]
        }
      ]
    },
    {
      "cell_type": "code",
      "source": [
        "a = 15\n",
        "b = 25\n",
        "\n",
        "c = a + b\n",
        "\n",
        "print(\"The value of c is:\", c)\n"
      ],
      "metadata": {
        "id": "GOVlO1aVWrpA",
        "outputId": "df21ec23-1617-409b-aa05-552be543f2f0",
        "colab": {
          "base_uri": "https://localhost:8080/"
        }
      },
      "execution_count": null,
      "outputs": [
        {
          "output_type": "stream",
          "name": "stdout",
          "text": [
            "The value of c is: 40\n"
          ]
        }
      ]
    },
    {
      "cell_type": "code",
      "source": [
        "a = 15\n",
        "b = 25\n",
        "\n",
        "c = a * b\n",
        "\n",
        "print(\"The value of c is:\", c)\n",
        "\n"
      ],
      "metadata": {
        "id": "mWiIwhPcX1Bs",
        "outputId": "7c380caa-683a-4798-98f8-c545ba9e8d53",
        "colab": {
          "base_uri": "https://localhost:8080/"
        }
      },
      "execution_count": null,
      "outputs": [
        {
          "output_type": "stream",
          "name": "stdout",
          "text": [
            "The value of c is: 375\n"
          ]
        }
      ]
    }
  ],
  "metadata": {
    "colab": {
      "provenance": []
    },
    "kernelspec": {
      "display_name": "Python 3",
      "name": "python3"
    }
  },
  "nbformat": 4,
  "nbformat_minor": 0
}